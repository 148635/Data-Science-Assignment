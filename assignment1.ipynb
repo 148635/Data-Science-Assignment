{
 "cells": [
  {
   "cell_type": "markdown",
   "id": "513bc4df-dda0-4f0f-9ad8-70d86a44e633",
   "metadata": {},
   "source": [
    "1. i. a=\"abc\"\n",
    "   ii. li=[\"hi\",\"hello\",\"ok\"]\n",
    "   iii. fl=3.08\n",
    "   iV. tup=tuple(\"ok\")"
   ]
  },
  {
   "cell_type": "markdown",
   "id": "398a8e8d-4f18-4203-af81-822d65cfc1c7",
   "metadata": {},
   "source": [
    "2. i. Str\n",
    "   ii. Str\n",
    "   iii. List\n",
    "   iv.  Int"
   ]
  },
  {
   "cell_type": "markdown",
   "id": "1906641d-1e9e-4fd0-8980-20b9b91d2bde",
   "metadata": {},
   "source": [
    "3. i. (/) it is used to get precise division result, it doesnt round off values thus may give float values.\n",
    "   ii. (%) is Modulus operation which is used to give the remainder of the numerator divided by denominator.\n",
    "   iii. (//) is used to strictly divide the numbers which round off the result and called as strict division.\n",
    "   iv. (**) is called power operator.Used to get power of base and exponent. "
   ]
  },
  {
   "cell_type": "code",
   "execution_count": null,
   "id": "75a0c8f3-1cdd-4b32-bffd-66cc74a0dcf9",
   "metadata": {},
   "outputs": [],
   "source": [
    "4. \n",
    "li=[1,2.02,\"ok\",\"this\",False,tuple(\"ok\"),[56],2+3j,{1:\"one\",2:\"two\"},123456789]\n",
    "for i in li:\n",
    "    print(i,type(i),sep=\"  \")"
   ]
  },
  {
   "cell_type": "code",
   "execution_count": null,
   "id": "9570674e-4449-4a7b-ab20-a22fc07ad9a2",
   "metadata": {},
   "outputs": [],
   "source": [
    "5. \n",
    "a=10\n",
    "b=5\n",
    "while(((a%b)==0):\n",
    "      print(a//b)\n",
    "      break"
   ]
  },
  {
   "cell_type": "code",
   "execution_count": 15,
   "id": "0c5a6084-0551-4ce0-a6a1-ae9c10755f6f",
   "metadata": {},
   "outputs": [
    {
     "name": "stdout",
     "output_type": "stream",
     "text": [
      "1 is not divisble by 3\n",
      "2 is not divisble by 3\n",
      "3 is divisble by 3\n",
      "4 is not divisble by 3\n",
      "5 is not divisble by 3\n",
      "6 is divisble by 3\n",
      "7 is not divisble by 3\n",
      "8 is not divisble by 3\n",
      "9 is divisble by 3\n",
      "10 is not divisble by 3\n",
      "11 is not divisble by 3\n",
      "12 is divisble by 3\n",
      "13 is not divisble by 3\n",
      "14 is not divisble by 3\n",
      "15 is divisble by 3\n",
      "16 is not divisble by 3\n",
      "17 is not divisble by 3\n",
      "18 is divisble by 3\n",
      "19 is not divisble by 3\n",
      "20 is not divisble by 3\n",
      "21 is divisble by 3\n",
      "22 is not divisble by 3\n",
      "23 is not divisble by 3\n",
      "24 is divisble by 3\n",
      "25 is not divisble by 3\n"
     ]
    }
   ],
   "source": [
    "6. \n",
    "li=[i for i in range(1,26)]\n",
    "for i in li:\n",
    "    if i%3==0 : print(\"{} is divisble by 3\".format(i))\n",
    "    else : print(\"{} is not divisble by 3\".format(i))"
   ]
  },
  {
   "cell_type": "markdown",
   "id": "7ab777f3-b234-4ed3-947b-89205b1a9d45",
   "metadata": {},
   "source": [
    "7. \n",
    "Mutable Object\n",
    "A mutable object can be changed after it is created.\n",
    "Ex: List, Set, Dictionary\n",
    "li=[\"ok\"]\n",
    "dict={1:\"one\"}\n",
    "Immutable object\n",
    "An immutable object cannot be changed after it is created.\n",
    "ex: tuples,frozenset.\n",
    "tu=tuple(\"ok\")"
   ]
  },
  {
   "cell_type": "code",
   "execution_count": null,
   "id": "41542010-6783-4245-a0bf-f0829cd96e35",
   "metadata": {},
   "outputs": [],
   "source": []
  }
 ],
 "metadata": {
  "kernelspec": {
   "display_name": "Python 3 (ipykernel)",
   "language": "python",
   "name": "python3"
  },
  "language_info": {
   "codemirror_mode": {
    "name": "ipython",
    "version": 3
   },
   "file_extension": ".py",
   "mimetype": "text/x-python",
   "name": "python",
   "nbconvert_exporter": "python",
   "pygments_lexer": "ipython3",
   "version": "3.10.8"
  }
 },
 "nbformat": 4,
 "nbformat_minor": 5
}
