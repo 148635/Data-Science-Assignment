{
 "cells": [
  {
   "cell_type": "code",
   "execution_count": null,
   "id": "a94c8080-1c99-4416-bc9f-fe7ccc5a5187",
   "metadata": {},
   "outputs": [],
   "source": [
    "#1.Statistics is the science of collecting , organizing and analyzing data."
   ]
  },
  {
   "cell_type": "code",
   "execution_count": null,
   "id": "84b58741-3a5c-456c-9447-6f9ba97383a4",
   "metadata": {},
   "outputs": [],
   "source": [
    "#2.There are two types of statistics.\n",
    "\n",
    "1.Descriptive Statistics.\n",
    "\n",
    "It is organizing and summerizing the data.\n",
    "\n",
    "Ex: measure of central tendancy,dispersion.\n",
    "\n",
    "2.Inferencial Statistics.\n",
    "\n",
    "It is making use of your measured data to form conclusion.\n",
    "\n",
    "Ex: z-test, t-test, hypothesis test."
   ]
  },
  {
   "cell_type": "code",
   "execution_count": null,
   "id": "b38c87bd-13c6-4616-b870-12f269cb92c4",
   "metadata": {},
   "outputs": [],
   "source": [
    "3. \n",
    "Data is differenciated into two catagories.\n",
    "\n",
    "1.Quantitative\n",
    "Numerical type.\n",
    "i) Discrete\n",
    "\n",
    "It has whole value.\n",
    "\n",
    "Ex: number of students.\n",
    "\n",
    "ii) Continous\n",
    "\n",
    "It has any value.\n",
    "\n",
    "Ex:Height,Weight etc.\n",
    "\n",
    "2.Qualitative\n",
    "i)Nominal\n",
    "\n",
    "It has no order or ranks.\n",
    "\n",
    "Ex: Gender M,F\n",
    "\n",
    "ii)Ordinal\n",
    "\n",
    "It has order.\n",
    "\n",
    "Feedback: Good,Better etc\n"
   ]
  },
  {
   "cell_type": "code",
   "execution_count": null,
   "id": "a97d1e91-c721-4ef1-8af4-7fdcc04a1dfe",
   "metadata": {},
   "outputs": [],
   "source": [
    "4.\n",
    "i) Qualitative - Ordinal\n",
    "ii) Qualitative - Nominal\n",
    "iii) Quantitative - Continous\n",
    "iv) Quantitative - Discrete\n"
   ]
  },
  {
   "cell_type": "code",
   "execution_count": null,
   "id": "2fcf4ffa-5f42-448a-9b14-5a90a9021fd2",
   "metadata": {},
   "outputs": [],
   "source": [
    "5.\n",
    "Nominal,Ordinal,Interval,Ratio\n",
    "\n",
    "i) Nominal\n",
    "\n",
    "Catogorical and has no order.\n",
    "\n",
    "ii) Ordinal\n",
    "\n",
    "It is Nominal and as some order.\n",
    "\n",
    "iii) Interval\n",
    "\n",
    "It is Ordinal and has some equal intervals.\n",
    "\n",
    "iv) Ratio\n",
    "\n",
    "It is Interval and has true zero values.\n"
   ]
  },
  {
   "cell_type": "code",
   "execution_count": null,
   "id": "a41d3805-a5a2-4fb3-876a-5d316344a33e",
   "metadata": {},
   "outputs": [],
   "source": [
    "6. \n",
    "Levels of measurement helps us to analyze the data to reach a decision.\n",
    "\n",
    "Ex: If the data is Ordinal we can know that the data can be ordered to have a decision."
   ]
  },
  {
   "cell_type": "code",
   "execution_count": null,
   "id": "a311b76f-c51e-46ca-a0a9-9d6140baccae",
   "metadata": {},
   "outputs": [],
   "source": [
    "7.\n",
    "\n",
    "Nominal data can be catogorized into groups and has no order. Ordinal is nominal and has some order.\n"
   ]
  },
  {
   "cell_type": "code",
   "execution_count": null,
   "id": "e65f25f0-b8b7-4495-96ab-2225b4adab96",
   "metadata": {},
   "outputs": [],
   "source": [
    "8.\n",
    "A bar plot is used to display range.\n"
   ]
  },
  {
   "cell_type": "code",
   "execution_count": null,
   "id": "ce2883e8-5e8b-4d90-bdca-5ffe35809486",
   "metadata": {},
   "outputs": [],
   "source": [
    "9.\n",
    "1.Descriptive Statistics.\n",
    "\n",
    "It is organizing and summerizing the data.\n",
    "\n",
    "Ex: measure of central tendancy,dispersion.\n",
    "\n",
    "2.Inferencial Statistics.\n",
    "\n",
    "It is making use of your measured data to form conclusion.\n",
    "\n",
    "Ex: z-test, t-test, hypothesis test."
   ]
  },
  {
   "cell_type": "code",
   "execution_count": null,
   "id": "ec079c3a-1d3d-43a9-b122-31aaa50c3ef9",
   "metadata": {},
   "outputs": [],
   "source": [
    "10.\n",
    "Measurement of central tendency are mean,median and mode.\n",
    "Variability are varinace and standard deviation.\n",
    "\n",
    "Central tendency tells you where most of your data points lie, variability summarizes how far apart your points from each other.\n",
    "\n",
    "Mean gives you the average, median gives you the middle most value and mode gives you the most frequent data and are used for most data points location.\n",
    "\n",
    "Variance and Standard distribution tells the dispersion of data.\n",
    "\n",
    "Variance is used to measure how far the data values are dispersed from the mean, and the standard deviation is the used to calculate the amount of dispersion of the given data set values.\n"
   ]
  }
 ],
 "metadata": {
  "kernelspec": {
   "display_name": "Python 3 (ipykernel)",
   "language": "python",
   "name": "python3"
  },
  "language_info": {
   "codemirror_mode": {
    "name": "ipython",
    "version": 3
   },
   "file_extension": ".py",
   "mimetype": "text/x-python",
   "name": "python",
   "nbconvert_exporter": "python",
   "pygments_lexer": "ipython3",
   "version": "3.10.8"
  }
 },
 "nbformat": 4,
 "nbformat_minor": 5
}
