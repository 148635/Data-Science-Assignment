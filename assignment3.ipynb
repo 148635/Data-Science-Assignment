{
 "cells": [
  {
   "cell_type": "code",
   "execution_count": null,
   "id": "5d7d94d2-070c-4de4-a8c4-33fbdf790847",
   "metadata": {},
   "outputs": [],
   "source": [
    "1. def is the keyword used to create a function.\n",
    "\n",
    "def fun():\n",
    "    li=[]\n",
    "    for i in range(1,26):\n",
    "        if(1%2):\n",
    "             li.append(i)\n",
    "    return li\n",
    "li2=fun()\n",
    "print(li)"
   ]
  },
  {
   "cell_type": "code",
   "execution_count": null,
   "id": "021dc6f4-8086-48f7-ac46-dc62fcee25e8",
   "metadata": {},
   "outputs": [],
   "source": [
    "2. \n",
    "we use wildcard or (*) notation like this * args or **kwargs as oyr functions argument when we have doubts about the number of arguments we should pass in a function.\n",
    "\n",
    "def fun(*argv):\n",
    "    s1=\"\"\n",
    "    for i in argv:\n",
    "        s1+=i\n",
    "    return s1\n",
    "def fun2(**kwargs):\n",
    "    for key,value in kwargs.items():\n",
    "        print(key,value)\n",
    "print(fun(\"hello\",\"to\",\"you\"))\n",
    "fun2(name=\"hello\",you=\"you\")"
   ]
  },
  {
   "cell_type": "code",
   "execution_count": null,
   "id": "d59637ab-5011-4455-b9a5-aea7d1ae7d35",
   "metadata": {},
   "outputs": [],
   "source": [
    "3. \n",
    "iter() method is used to intialize an iterator object and next() method is used to get an iterator.\n",
    "\n",
    "li1=[2, 4, 6, 8, 10, 12, 14,\n",
    "16, 18, 20]\n",
    "li1=iter(li1)\n",
    "print(next(li1))\n",
    "print(next(li1))\n",
    "print(next(li1))\n",
    "print(next(li1))\n",
    "print(next(li1))"
   ]
  },
  {
   "cell_type": "code",
   "execution_count": null,
   "id": "c382b649-6b23-4241-a127-4228f88a459b",
   "metadata": {},
   "outputs": [],
   "source": [
    "4. \n",
    "A generator function in Python is defined like a normal function, but whenever it needs to generate a value, it does so with the yield keyword rather than return. If the body of a def contains yield, the function automatically becomes a Python generator function. \n",
    "\n",
    "def fun():\n",
    "    a=1\n",
    "    yield a\n",
    "    a=a+1\n",
    "    yield a\n",
    "    a=a+2\n",
    "    yield a\n",
    "iterator1=fun()\n",
    "print(next(iterator1))\n",
    "print(next(iterator1))\n",
    "print(next(iterator1))"
   ]
  },
  {
   "cell_type": "code",
   "execution_count": null,
   "id": "ec18da88-f2a3-41dc-be44-65a68f7c05be",
   "metadata": {},
   "outputs": [],
   "source": [
    "5. \n",
    "import sympy\n",
    "\n",
    "def fun(num):\n",
    "    for i in range(1,num):\n",
    "        if sympy.isprime(i):\n",
    "            yield i\n",
    "itr1=fun(1000)\n",
    "for in in range(20):\n",
    "    print(next(itr1))"
   ]
  },
  {
   "cell_type": "code",
   "execution_count": null,
   "id": "923ae6e9-1669-48a3-884e-e43c9c2a3846",
   "metadata": {},
   "outputs": [],
   "source": [
    "6. \n",
    "a=0\n",
    "b=1\n",
    "c=8\n",
    "print(0,1,sep=\" \")\n",
    "while(c):\n",
    "    next1=a+b\n",
    "    print(next1)\n",
    "    a=b\n",
    "    b=next1\n",
    "    c--"
   ]
  },
  {
   "cell_type": "code",
   "execution_count": null,
   "id": "a4b8f9f2-f517-49a0-af06-ba4ec95723cf",
   "metadata": {},
   "outputs": [],
   "source": [
    "7. \n",
    "li=[i for i in ‘pwskills’]\n",
    "print(li)"
   ]
  },
  {
   "cell_type": "code",
   "execution_count": null,
   "id": "41defad0-18a1-4dca-886d-dbab0e93a852",
   "metadata": {},
   "outputs": [],
   "source": [
    "8. \n",
    "def fun(num):\n",
    "    num1=0\n",
    "    while(num):\n",
    "        num1=(num1*10)+(num%10)\n",
    "        num=num//10\n",
    "    return num1\n",
    "print(num==fun(151))"
   ]
  },
  {
   "cell_type": "code",
   "execution_count": null,
   "id": "7acf5874-84ce-4dde-9e5e-95002d754d90",
   "metadata": {},
   "outputs": [],
   "source": [
    "9. \n",
    "li=[i for i in range(101) if i % 2 ==1 ]\n",
    "print(li)"
   ]
  }
 ],
 "metadata": {
  "kernelspec": {
   "display_name": "Python 3 (ipykernel)",
   "language": "python",
   "name": "python3"
  },
  "language_info": {
   "codemirror_mode": {
    "name": "ipython",
    "version": 3
   },
   "file_extension": ".py",
   "mimetype": "text/x-python",
   "name": "python",
   "nbconvert_exporter": "python",
   "pygments_lexer": "ipython3",
   "version": "3.10.8"
  }
 },
 "nbformat": 4,
 "nbformat_minor": 5
}
