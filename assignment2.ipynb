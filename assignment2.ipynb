{
 "cells": [
  {
   "cell_type": "code",
   "execution_count": null,
   "id": "651ca4ad-aa20-4ff2-8d32-40793d97da5d",
   "metadata": {},
   "outputs": [],
   "source": [
    "1. comments in python.\n",
    "We can define comments with two types.\n",
    "i. with \"#\" symbol in front of any line.\n",
    "   Ex: #print(\"hello\")\n",
    "ii.Multiline commenting can be done using ''' ''' triple quotes.\n",
    "\n",
    "Ex: \n",
    "''' this is a multiline\n",
    "    comment'''"
   ]
  },
  {
   "cell_type": "code",
   "execution_count": null,
   "id": "6db76db7-0ebe-49fd-bbd1-66eae199a20f",
   "metadata": {},
   "outputs": [],
   "source": [
    "2.\n",
    "  A python variable is a symbolic name that is a reference or pointer to an object.Once an object is assigned to a variable, you can refer to that object by that name.\n",
    "\n",
    "Ex: \n",
    "a=2\n",
    "print(a)"
   ]
  },
  {
   "cell_type": "code",
   "execution_count": 4,
   "id": "616cc926-c9e1-426c-acbd-39fa905641de",
   "metadata": {},
   "outputs": [
    {
     "ename": "SyntaxError",
     "evalue": "invalid syntax (2810573543.py, line 1)",
     "output_type": "error",
     "traceback": [
      "\u001b[0;36m  Cell \u001b[0;32mIn[4], line 1\u001b[0;36m\u001b[0m\n\u001b[0;31m    3. we can use inbuilt functions to convert a datatype to other datatype.\u001b[0m\n\u001b[0m       ^\u001b[0m\n\u001b[0;31mSyntaxError\u001b[0m\u001b[0;31m:\u001b[0m invalid syntax\n"
     ]
    }
   ],
   "source": [
    "3. we can use inbuilt functions to convert a datatype to other datatype.\n",
    "Ex: \n",
    "num=2\n",
    "print(type(num))\n",
    "num=str(num)\n",
    "print(type(num))"
   ]
  },
  {
   "cell_type": "markdown",
   "id": "8dc65d9c-a4ce-4eb3-b7f2-1a3e7806136c",
   "metadata": {},
   "source": [
    "4. \n",
    "We create a file and name it with .py extension.After the logic we go to the path where the file exists in the command prompt and use the below command to execute a python script.\n",
    "Ex: python abc.py"
   ]
  },
  {
   "cell_type": "code",
   "execution_count": null,
   "id": "7faa8eef-a4b6-4a1e-9f92-88acdb4a596b",
   "metadata": {},
   "outputs": [],
   "source": [
    "5. \n",
    "my_list=[1,2,3,4,5]\n",
    "my_list=my_list[1:3]\n",
    "print(my_list)\n"
   ]
  },
  {
   "cell_type": "code",
   "execution_count": null,
   "id": "62d25ebb-ce3d-45ee-bad9-fc754d77f880",
   "metadata": {},
   "outputs": [],
   "source": [
    "6. \n",
    "An complex number is represented by \"x + yi\". It is represented in python as,\n",
    "Ex:\n",
    "com=2+3i\n",
    "print(type(com))"
   ]
  },
  {
   "cell_type": "code",
   "execution_count": null,
   "id": "991b71e7-ce7f-4617-b717-cf0fa6efb58a",
   "metadata": {},
   "outputs": [],
   "source": [
    "7.\n",
    "age=int(25)"
   ]
  },
  {
   "cell_type": "code",
   "execution_count": null,
   "id": "db32fbe6-854c-4809-8989-d3035f0c0069",
   "metadata": {},
   "outputs": [],
   "source": [
    "8. Type of price is float.\n",
    "price=9.99\n",
    "print(type(price))\n"
   ]
  },
  {
   "cell_type": "code",
   "execution_count": null,
   "id": "571ceef6-839c-481f-821a-973d25b982aa",
   "metadata": {},
   "outputs": [],
   "source": [
    "9. we can print a string using print() function\n",
    "\n",
    "name=\"vamshi\"\n",
    "print(name)"
   ]
  },
  {
   "cell_type": "code",
   "execution_count": null,
   "id": "86fdd5c1-9eef-4bb6-977b-a0bf66971754",
   "metadata": {},
   "outputs": [],
   "source": [
    "10. Using split function\n",
    "\n",
    "s1=\"Hello, World!\"\n",
    "s1=s1.split(\",\")\n",
    "print(s1[1])"
   ]
  },
  {
   "cell_type": "code",
   "execution_count": null,
   "id": "22b017d0-2c22-4820-81fa-4ad8595d6111",
   "metadata": {},
   "outputs": [],
   "source": [
    "11. \n",
    "is_student=False\n",
    "print(is_student)"
   ]
  }
 ],
 "metadata": {
  "kernelspec": {
   "display_name": "Python 3 (ipykernel)",
   "language": "python",
   "name": "python3"
  },
  "language_info": {
   "codemirror_mode": {
    "name": "ipython",
    "version": 3
   },
   "file_extension": ".py",
   "mimetype": "text/x-python",
   "name": "python",
   "nbconvert_exporter": "python",
   "pygments_lexer": "ipython3",
   "version": "3.10.8"
  }
 },
 "nbformat": 4,
 "nbformat_minor": 5
}
