{
 "cells": [
  {
   "cell_type": "code",
   "execution_count": 6,
   "id": "e6e1d5bd-bdd6-4399-a914-89d396c01c89",
   "metadata": {},
   "outputs": [
    {
     "name": "stdout",
     "output_type": "stream",
     "text": [
      "<U1\n",
      "<class 'list'>\n"
     ]
    }
   ],
   "source": [
    "#1.\n",
    "import numpy as np\n",
    "list_ = [ '1' , '2' , '3' , '4' , '5' ]\n",
    "array_list = np.array(object = list_)\n",
    "print(array_list.dtype)\n",
    "print(type(list_))\n",
    "# The datatype of both are different."
   ]
  },
  {
   "cell_type": "code",
   "execution_count": 15,
   "id": "df8040b8-e8b1-45e5-87dd-a1a07021aa85",
   "metadata": {},
   "outputs": [
    {
     "name": "stdout",
     "output_type": "stream",
     "text": [
      "1 <class 'str'>\n",
      "2 <class 'str'>\n",
      "3 <class 'str'>\n",
      "4 <class 'str'>\n",
      "5 <class 'str'>\n",
      "1 <U1\n",
      "2 <U1\n",
      "3 <U1\n",
      "4 <U1\n",
      "5 <U1\n"
     ]
    }
   ],
   "source": [
    "#2.\n",
    "import numpy as np\n",
    "list_ = [ '1' , '2' , '3' , '4' , '5' ]\n",
    "array_list = np.array(object = list_)\n",
    "\n",
    "for i in list_:\n",
    "    print(i,type(i),sep=\" \")\n",
    "for i in array_list:\n",
    "    print(i,i.dtype,sep=\" \")"
   ]
  },
  {
   "cell_type": "code",
   "execution_count": 13,
   "id": "fc69f6fc-3827-48a9-8905-590c6d988714",
   "metadata": {},
   "outputs": [
    {
     "name": "stdout",
     "output_type": "stream",
     "text": [
      "1 <class 'str'>\n",
      "2 <class 'str'>\n",
      "3 <class 'str'>\n",
      "4 <class 'str'>\n",
      "5 <class 'str'>\n",
      "1 int64\n",
      "2 int64\n",
      "3 int64\n",
      "4 int64\n",
      "5 int64\n"
     ]
    }
   ],
   "source": [
    "#3.\n",
    "import numpy as np\n",
    "list_ = [ '1' , '2' , '3' , '4' , '5' ]\n",
    "array_list = np.array(object = list_)\n",
    "array_list = np.array(object = list_, dtype = int)\n",
    "for i in list_:\n",
    "    print(i,type(i),sep=\" \")\n",
    "for i in array_list:\n",
    "    print(i,i.dtype,sep=\" \")"
   ]
  },
  {
   "cell_type": "code",
   "execution_count": 18,
   "id": "949a54a8-ef14-4408-bc02-7422834369ab",
   "metadata": {},
   "outputs": [
    {
     "name": "stdout",
     "output_type": "stream",
     "text": [
      "(2, 3)\n",
      "6\n"
     ]
    }
   ],
   "source": [
    "#4.\n",
    "\n",
    "import numpy as np\n",
    "num_list = [ [ 1 , 2 , 3 ] , [ 4 , 5 , 6 ] ]\n",
    "num_array = np.array(object = num_list)\n",
    "print(num_array.shape)\n",
    "print(num_array.size)"
   ]
  },
  {
   "cell_type": "code",
   "execution_count": 19,
   "id": "6e3a1641-7850-4b79-b40c-a7c189d93510",
   "metadata": {},
   "outputs": [
    {
     "name": "stdout",
     "output_type": "stream",
     "text": [
      "[[0. 0. 0.]\n",
      " [0. 0. 0.]\n",
      " [0. 0. 0.]]\n",
      "(3, 3)\n",
      "9\n"
     ]
    }
   ],
   "source": [
    "#5.\n",
    "\n",
    "import numpy as np\n",
    "array_list=np.zeros((3,3))\n",
    "print(array_list)\n",
    "print(array_list.shape)\n",
    "print(array_list.size)"
   ]
  },
  {
   "cell_type": "code",
   "execution_count": 21,
   "id": "83dbe42e-dc86-44af-a4bd-0d8a0d8a0234",
   "metadata": {},
   "outputs": [
    {
     "name": "stdout",
     "output_type": "stream",
     "text": [
      "[[1. 0. 0. 0. 0.]\n",
      " [0. 1. 0. 0. 0.]\n",
      " [0. 0. 1. 0. 0.]\n",
      " [0. 0. 0. 1. 0.]\n",
      " [0. 0. 0. 0. 1.]]\n",
      "(5, 5)\n",
      "25\n"
     ]
    }
   ],
   "source": [
    "#6.\n",
    "\n",
    "import numpy as np\n",
    "array_list=np.eye(5,5)\n",
    "print(array_list)\n",
    "print(array_list.shape)\n",
    "print(array_list.size)"
   ]
  },
  {
   "cell_type": "code",
   "execution_count": null,
   "id": "f086dc2f-a00e-403b-947d-854648b8c9a2",
   "metadata": {},
   "outputs": [],
   "source": []
  }
 ],
 "metadata": {
  "kernelspec": {
   "display_name": "Python 3 (ipykernel)",
   "language": "python",
   "name": "python3"
  },
  "language_info": {
   "codemirror_mode": {
    "name": "ipython",
    "version": 3
   },
   "file_extension": ".py",
   "mimetype": "text/x-python",
   "name": "python",
   "nbconvert_exporter": "python",
   "pygments_lexer": "ipython3",
   "version": "3.10.8"
  }
 },
 "nbformat": 4,
 "nbformat_minor": 5
}
