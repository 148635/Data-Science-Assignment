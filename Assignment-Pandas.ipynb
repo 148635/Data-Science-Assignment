{
 "cells": [
  {
   "cell_type": "code",
   "execution_count": 4,
   "id": "a7fc921b-c8e7-4510-aefe-bd6794fd5de9",
   "metadata": {},
   "outputs": [
    {
     "name": "stdout",
     "output_type": "stream",
     "text": [
      "0     4\n",
      "1     8\n",
      "2    15\n",
      "3    16\n",
      "4    23\n",
      "5    42\n",
      "dtype: int64\n"
     ]
    }
   ],
   "source": [
    "1. \n",
    "import pandas as pd\n",
    "pd1=pd.Series([4,8,15,16,23,42])\n",
    "print(pd1)"
   ]
  },
  {
   "cell_type": "code",
   "execution_count": 6,
   "id": "5f2ff57f-f971-499c-b5d9-4e7446290fd8",
   "metadata": {},
   "outputs": [
    {
     "name": "stdout",
     "output_type": "stream",
     "text": [
      "0         4\n",
      "1         8\n",
      "2        15\n",
      "3        16\n",
      "4        23\n",
      "5        42\n",
      "6        ok\n",
      "7      3.09\n",
      "8     False\n",
      "9    (1+3j)\n",
      "dtype: object\n"
     ]
    }
   ],
   "source": [
    "2.\n",
    "import pandas as pd\n",
    "pd1=pd.Series([4,8,15,16,23,42,\"ok\",3.09,False,1+3j])\n",
    "print(pd1)"
   ]
  },
  {
   "cell_type": "code",
   "execution_count": 15,
   "id": "bd6c16dc-2308-45d7-a392-f38be88067eb",
   "metadata": {},
   "outputs": [
    {
     "name": "stdout",
     "output_type": "stream",
     "text": [
      "     Name  Age  Gender\n",
      "0   Alice   25  Female\n",
      "1     Bob   30    Male\n",
      "2  Claire   27  Female\n"
     ]
    }
   ],
   "source": [
    "3. \n",
    "import pandas as pd\n",
    "pd1=pd.DataFrame([['Alice',25,'Female'],['Bob',30,'Male'],['Claire',27,'Female']], columns=['Name','Age','Gender'])\n",
    "print(pd1)"
   ]
  },
  {
   "cell_type": "code",
   "execution_count": null,
   "id": "4a26143c-c849-4602-b6dd-7961b58c4051",
   "metadata": {},
   "outputs": [],
   "source": [
    "4. \n",
    "The pandas DataFrame is a structure that contains two-dimensional data and its corresponding labels. DataFrames are widely used in data science, machine learning, scientific computing, and many other data-intensive fields. \n",
    "A pandas Series is a one-dimensional array.It holds any data type supported in Python and uses labels to locate each data value for retrieval. These labels form the index, and they can be strings or integers.they are present in DataFrame.\n",
    " \n",
    "Ex:\n",
    "import pandas as pd\n",
    "pd1=pd.Series([4,8,15,16,23,42])\n",
    "print(pd1)\n",
    "pd1=pd.DataFrame([['Alice',25,'Female'],['Bob',30,'Male'],['Claire',27,'Female']], columns=['Name','Age','Gender'])\n",
    "print(pd1)"
   ]
  },
  {
   "cell_type": "code",
   "execution_count": 22,
   "id": "89371081-a05b-47cd-bb43-a3731636c896",
   "metadata": {},
   "outputs": [
    {
     "name": "stdout",
     "output_type": "stream",
     "text": [
      "     Name  Age  Gender\n",
      "0   Alice   25  Female\n",
      "1     Bob   30    Male\n",
      "2  Claire   27  Female\n",
      "['Alice' 'Bob' 'Claire']\n",
      "0    25\n",
      "1    30\n",
      "2    27\n",
      "Name: Age, dtype: int64\n",
      "     name  age  Gender\n",
      "0   Alice   25  Female\n",
      "1     Bob   30    Male\n",
      "2  Claire   27  Female\n"
     ]
    }
   ],
   "source": [
    "5. \n",
    "import pandas as pd\n",
    "pd1=pd.DataFrame([['Alice',25,'Female'],['Bob',30,'Male'],['Claire',27,'Female']], columns=['Name','Age','Gender'])\n",
    "print(pd1)\n",
    "print(pd1['Name'].unique())\n",
    "pd2=pd1['Age']\n",
    "print(pd2)\n",
    "colums=pd1.rename(columns={'Name':'name','Age':'age'})\n",
    "print(colums)"
   ]
  },
  {
   "cell_type": "markdown",
   "id": "cb3d1c9a-d095-477a-908e-064a0abbe979",
   "metadata": {},
   "source": [
    "6. \n",
    "\n",
    "DataFrame are mutable.\n",
    "Series are mutable but not size mutable.\n",
    "Label are mutable."
   ]
  },
  {
   "cell_type": "markdown",
   "id": "f02f06f7-e518-464e-9f92-1151e0503127",
   "metadata": {},
   "source": [
    "7. \n",
    "import pandas as pd\n",
    "pd1=pd.Series([4,8])\n",
    "pd2=pd.Series([\"ok\",\"cool\"])\n",
    "pd3=pd.DataFrame([pd1,pd2])\n",
    "print(pd3)\n",
    "\n",
    "Given two series pd1 and pd2 . Series are 1 dimensional data structures in DataFrame. DataFrame is a two dimensioanl data structure which holds series as rows."
   ]
  },
  {
   "cell_type": "code",
   "execution_count": null,
   "id": "56a619db-76fa-48e3-8bea-1ab530b015eb",
   "metadata": {},
   "outputs": [],
   "source": []
  }
 ],
 "metadata": {
  "kernelspec": {
   "display_name": "Python 3 (ipykernel)",
   "language": "python",
   "name": "python3"
  },
  "language_info": {
   "codemirror_mode": {
    "name": "ipython",
    "version": 3
   },
   "file_extension": ".py",
   "mimetype": "text/x-python",
   "name": "python",
   "nbconvert_exporter": "python",
   "pygments_lexer": "ipython3",
   "version": "3.10.8"
  }
 },
 "nbformat": 4,
 "nbformat_minor": 5
}
